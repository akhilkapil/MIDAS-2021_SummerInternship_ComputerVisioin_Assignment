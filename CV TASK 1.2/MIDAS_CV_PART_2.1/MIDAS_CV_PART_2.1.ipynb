{
  "nbformat": 4,
  "nbformat_minor": 0,
  "metadata": {
    "colab": {
      "name": "MIDAS_CV_PART2.1",
      "provenance": [],
      "toc_visible": true
    },
    "kernelspec": {
      "name": "python3",
      "display_name": "Python 3"
    },
    "language_info": {
      "name": "python"
    },
    "accelerator": "GPU"
  },
  "cells": [
    {
      "cell_type": "code",
      "metadata": {
        "id": "YIyWeqStkBqi"
      },
      "source": [
        "'''Basic Libraries'''\n",
        "import pandas as pd \n",
        "import numpy as np \n",
        "from pathlib import Path\n",
        "import matplotlib.pyplot as plt \n",
        "import os.path \n",
        "import regex as re\n",
        "import warnings \n",
        "import math\n",
        "import itertools\n",
        "warnings.filterwarnings('ignore')\n",
        "\n",
        "\n",
        "'''Preprocessing and CNN Libraries'''\n",
        "from tensorflow.keras.preprocessing.image import ImageDataGenerator, array_to_img, img_to_array, load_img\n",
        "from tensorflow.keras import Sequential\n",
        "from tensorflow.keras.layers import Dense, Conv2D, BatchNormalization, Activation, MaxPooling2D, Dropout, AveragePooling2D, Input, Flatten, add\n",
        "from tensorflow.keras.optimizers import Adam\n",
        "from tensorflow.keras.callbacks import ModelCheckpoint, LearningRateScheduler, ReduceLROnPlateau\n",
        "from tensorflow.keras.regularizers import l2, l1\n",
        "from tensorflow.keras.models import Model,load_model\n",
        "from tensorflow.keras.utils import to_categorical, plot_model\n",
        "import tensorflow as tf \n",
        "from sklearn.model_selection import train_test_split\n",
        "from sklearn.metrics import classification_report, confusion_matrix"
      ],
      "execution_count": 1,
      "outputs": []
    },
    {
      "cell_type": "code",
      "metadata": {
        "id": "agre-VQplL9z"
      },
      "source": [
        "#CONFIG \n",
        "BASE_DIR = '/content/drive/MyDrive/trainPart12/MIDAS_TASK2' #Selecting only 0-9 images\n",
        "NUM_CLASSES = 10\n",
        "n = 3 #layers of Resnet Model\n",
        "BATCH_SIZE = 32\n",
        "EPOCHS = 120\n",
        "IMG_HEIGHT = 900 \n",
        "IMG_WIDTH = 1200\n",
        "RATIO = 4\n",
        "RANDOM_STATE = 2018"
      ],
      "execution_count": 2,
      "outputs": []
    },
    {
      "cell_type": "markdown",
      "metadata": {
        "id": "3R6DzO5m69Te"
      },
      "source": [
        "# __Data Collection and Preprocessing__"
      ]
    },
    {
      "cell_type": "code",
      "metadata": {
        "id": "KELuAjFpmHW4"
      },
      "source": [
        "filepaths = list(Path(BASE_DIR).glob(r'**/*.png'))\n",
        "labels = list(map(lambda x: os.path.split(os.path.split(x)[0])[1], filepaths))\n",
        "filepaths = pd.Series(filepaths, name='Filepath').astype(str)\n",
        "labels = pd.Series(labels, name='Label')\n",
        "\n",
        "#Concatenating filepaths and image labels into a dataframe\n",
        "image_df = pd.concat([filepaths, labels], axis=1)"
      ],
      "execution_count": 3,
      "outputs": []
    },
    {
      "cell_type": "code",
      "metadata": {
        "id": "3e8FMMR4nUXN"
      },
      "source": [
        "image_df['new_labels'] = [re.findall(r'\\d+', x) for x in image_df['Label']]\n",
        "image_df['new_labels'] = image_df['new_labels'].astype(str).str.replace(r'\\[|\\]|,','')\n",
        "image_df['new_labels'] = image_df['new_labels'].astype(str).str.replace(r\"[\\\"\\',]\",'').astype(int)\n",
        "\n",
        "#Converting the target column into list \n",
        "label_list = image_df['new_labels'].values.reshape(-1,1)\n",
        "\n",
        "#Decreasing the value of eacch label by 1 so that it gets aligned with what each image represent\n",
        "image_df['new_labels'] = [(x-1) for x in image_df['new_labels']]"
      ],
      "execution_count": 5,
      "outputs": []
    },
    {
      "cell_type": "code",
      "metadata": {
        "colab": {
          "base_uri": "https://localhost:8080/"
        },
        "id": "N-6NYId9n1Ji",
        "outputId": "c94628dd-4deb-4732-ffc9-783283309f47"
      },
      "source": [
        "image_width = int(IMG_WIDTH/RATIO)\n",
        "image_height = int(IMG_HEIGHT/RATIO)\n",
        "channels = 3\n",
        "\n",
        "# Now We need to extract values of each pixel from our Images and store them in a ndarray so that our model can learn them better.\n",
        "train_files = [] \n",
        "for _file in filepaths:\n",
        "  train_files.append(_file) #Append the path names for each image \n",
        "\n",
        "\n",
        "\n",
        "#make a empty ndarray to store the shape in the format of (None, IMGAGE_HEIGHT, IMAGE_WIDTH, CHANNELS)\n",
        "dataset = np.ndarray(shape=(len(train_files), image_height, image_width, channels), dtype=np.float32)\n",
        "\n",
        "\n",
        "i = 0 #initiate a counter \n",
        "for _file in train_files:\n",
        "  img = load_img(_file)\n",
        "  img.thumbnail((image_width, image_height))\n",
        "  x = img_to_array(img)\n",
        "  x = x.reshape(image_height, image_width, channels)\n",
        "  dataset[i] = x\n",
        "  i += 1\n",
        "  if i % 200 == 0:\n",
        "    print(\"%d image to array\" %i)\n",
        "print('All images to array')"
      ],
      "execution_count": 6,
      "outputs": [
        {
          "output_type": "stream",
          "text": [
            "200 image to array\n",
            "400 image to array\n",
            "All images to array\n"
          ],
          "name": "stdout"
        }
      ]
    },
    {
      "cell_type": "code",
      "metadata": {
        "id": "Zm7Cu1zgwEMv"
      },
      "source": [
        "#Splitting into train and testing dataset\n",
        "X_train, X_test, y_train, y_test = train_test_split(dataset, label_list, test_size=0.25)"
      ],
      "execution_count": 7,
      "outputs": []
    },
    {
      "cell_type": "code",
      "metadata": {
        "colab": {
          "base_uri": "https://localhost:8080/"
        },
        "id": "NUXI8p89yLME",
        "outputId": "725d1ca0-9fc9-4e1e-bae8-3ea0a3db7b5d"
      },
      "source": [
        "# storing the inputs of image dimensions in a variable.\n",
        "input_shape = X_train.shape[1:]\n",
        "\n",
        "# normalizing data. As we want values to be scaled within a range of 0 to 255 because CNN converges faster on scale of 0 to 1 rather \n",
        "# then on a scale of 0 to 255.\n",
        "X_train = X_train.astype('float32') / 255\n",
        "X_test = X_test.astype('float32') / 255\n",
        "\n",
        "# Subtracting pixel improves accuracy\n",
        "x_train_mean = np.mean(X_train, axis=0)\n",
        "X_train -= x_train_mean\n",
        "X_test -= x_train_mean\n",
        "\n",
        "print('x_train shape:', X_train.shape)\n",
        "print(X_train.shape[0], 'train samples')\n",
        "print(X_test.shape[0], 'test samples')\n",
        "print('y_train shape:', y_train.shape)"
      ],
      "execution_count": 8,
      "outputs": [
        {
          "output_type": "stream",
          "text": [
            "x_train shape: (300, 225, 300, 3)\n",
            "300 train samples\n",
            "100 test samples\n",
            "y_train shape: (300, 1)\n"
          ],
          "name": "stdout"
        }
      ]
    },
    {
      "cell_type": "code",
      "metadata": {
        "id": "RICYWjG7ydnh"
      },
      "source": [
        "# convert class vectoars to binary class matrices.\n",
        "y_train = to_categorical(y_train, NUM_CLASSES)\n",
        "y_test = to_categorical(y_test, NUM_CLASSES)"
      ],
      "execution_count": 9,
      "outputs": []
    },
    {
      "cell_type": "markdown",
      "metadata": {
        "id": "eV5Nk8E885Lb"
      },
      "source": [
        "## __Model Building__ \n",
        "\n",
        "I am using **ResNet** with 20 layers with a slight tuning:\n",
        "  - I am using __Adam__ instead of SGD as my prime optimizer.\n",
        "  This is because ResNet is easier to converge with Adam.\n",
        "  - I am using a AveragePooling layer at the end with 4x4 filter instead of 8x8, as the latter one kind of leading t overfitting on this one.\n",
        "  - For faster and stable convergence, I have defined a custom LR function to reduce the LR after a certain training epochs.\n",
        "  "
      ]
    },
    {
      "cell_type": "code",
      "metadata": {
        "id": "Apxe21IVzDP9"
      },
      "source": [
        "#Model Configurtion\n",
        "version = 1\n",
        "if version == 1:\n",
        "    depth = n * 6 + 2\n",
        "elif version == 2:\n",
        "    depth = n * 9 + 2\n",
        "\n",
        "#Definign LR \n",
        "def lr_schedule(epoch):\n",
        "    \"\"\"Learning Rate Schedule\n",
        "    Learning rate is scheduled to be reduced after 80, 120, 160, 180 epochs.\n",
        "    Called automatically every epoch as part of callbacks during training.\n",
        "    # Arguments\n",
        "        epoch (int): The number of epochs\n",
        "    # Returns\n",
        "        lr (float32): learning rate\n",
        "    \"\"\"\n",
        "    lr = 1e-3\n",
        "    if epoch > 180:\n",
        "        lr *= 0.5e-3\n",
        "    elif epoch >160:\n",
        "        lr *= 1e-3\n",
        "    elif epoch > 120:\n",
        "        lr *= 1e-2\n",
        "    elif epoch > 80:\n",
        "        lr *= 1e-1\n",
        "    print('Learning rate:', lr)\n",
        "    return lr \n",
        "\n",
        "def resnet_layer(inputs, \n",
        "                 num_filters=16, \n",
        "                 kernel_size=3, \n",
        "                 strides=1, \n",
        "                 activation = 'relu', \n",
        "                 batch_normalization=True,\n",
        "                 conv_first=True):\n",
        "    \"\"\"2D Convolution-Batch Normalization-Activation stack builder\n",
        "    Arguments:\n",
        "        inputs (tensor): input tensor from input image or previous layer\n",
        "        num_filters (int): Conv2D number of filters\n",
        "        kernel_size (int): Conv2D square kernel dimensions\n",
        "        strides (int): Conv2D square stride dimensions\n",
        "        activation (string): activation name\n",
        "        batch_normalization (bool): whether to include batch normalization\n",
        "        conv_first (bool): conv-bn-activation (True) or\n",
        "            bn-activation-conv (False)\n",
        "    Returns:\n",
        "        x (tensor): tensor as input to the next layer\n",
        "    \"\"\"\n",
        "    \n",
        "    conv = Conv2D(num_filters,\n",
        "                  kernel_size=kernel_size,\n",
        "                  strides=strides,\n",
        "                  padding='same',\n",
        "                  kernel_initializer='he_normal',\n",
        "                  kernel_regularizer=l2(1e-4))\n",
        "\n",
        "    x = inputs\n",
        "    if conv_first:\n",
        "        x = conv(x)\n",
        "        if batch_normalization:\n",
        "            x = BatchNormalization()(x)\n",
        "        if activation is not None:\n",
        "            x = Activation(activation)(x)\n",
        "    else:\n",
        "        if batch_normalization:\n",
        "            x = BatchNormalization()(x)\n",
        "        if activation is not None:\n",
        "            x = Activation(activation)(x)\n",
        "        x = conv(x)\n",
        "    return x\n",
        "\n",
        "\n",
        "def resnet_v1(input_shape, depth, num_classes=10):\n",
        "    \"\"\"ResNet Version 1 Model builder [a]\n",
        "    Stacks of 2 x (3 x 3) Conv2D-BN-ReLU\n",
        "    Last ReLU is after the shortcut connection.\n",
        "    At the beginning of each stage, the feature map size is halved\n",
        "    (downsampled) by a convolutional layer with strides=2, while \n",
        "    the number of filters is doubled. Within each stage, \n",
        "    the layers have the same number filters and the\n",
        "    same number of filters.\n",
        "    Features maps sizes:\n",
        "    stage 0: 32x32, 16\n",
        "    stage 1: 16x16, 32\n",
        "    stage 2:  8x8,  64\n",
        "    The Number of parameters is approx the same as Table 6 of [a]:\n",
        "    ResNet20 0.27M\n",
        "    ResNet32 0.46M\n",
        "    ResNet44 0.66M\n",
        "    ResNet56 0.85M\n",
        "    ResNet110 1.7M\n",
        "    Arguments:\n",
        "        input_shape (tensor): shape of input image tensor\n",
        "        depth (int): number of core convolutional layers\n",
        "        num_classes (int): number of classes (CIFAR10 has 10)\n",
        "    Returns:\n",
        "        model (Model): Keras model instance\n",
        "    \"\"\"\n",
        "    if (depth - 2) % 6 != 0:\n",
        "        raise ValueError('depth should be 6n+2 (eg 20, 32, in [a])')\n",
        "    # start model definition.\n",
        "    num_filters = 16\n",
        "    num_res_blocks = int((depth - 2) / 6)\n",
        "\n",
        "    inputs = Input(shape=input_shape)\n",
        "    x = resnet_layer(inputs=inputs)\n",
        "    # instantiate the stack of residual units\n",
        "    for stack in range(3):\n",
        "        for res_block in range(num_res_blocks):\n",
        "            strides = 1\n",
        "            # first layer but not first stack\n",
        "            if stack > 0 and res_block == 0:  \n",
        "                strides = 2  # downsample\n",
        "            y = resnet_layer(inputs=x,\n",
        "                             num_filters=num_filters,\n",
        "                             strides=strides)\n",
        "            y = resnet_layer(inputs=y,\n",
        "                             num_filters=num_filters,\n",
        "                             activation=None)\n",
        "            # first layer but not first stack\n",
        "            if stack > 0 and res_block == 0:\n",
        "                # linear projection residual shortcut\n",
        "                # connection to match changed dims\n",
        "                x = resnet_layer(inputs=x,\n",
        "                                 num_filters=num_filters,\n",
        "                                 kernel_size=1,\n",
        "                                 strides=strides,\n",
        "                                 activation=None,\n",
        "                                 batch_normalization=False)\n",
        "            x = add([x, y])\n",
        "            x = Activation('relu')(x)\n",
        "        num_filters *= 2\n",
        "\n",
        "    # add classifier on top.\n",
        "    # v1 does not use BN after last shortcut connection-ReLU\n",
        "    x = AveragePooling2D(pool_size=4)(x)\n",
        "    y = Flatten()(x)\n",
        "    outputs = Dense(num_classes,\n",
        "                    activation='softmax',\n",
        "                    kernel_initializer='he_normal')(y)\n",
        "\n",
        "    # instantiate model.\n",
        "    model = Model(inputs=inputs, outputs=outputs)\n",
        "    return model"
      ],
      "execution_count": 10,
      "outputs": []
    },
    {
      "cell_type": "code",
      "metadata": {
        "id": "zmQCsTHpzHyR"
      },
      "source": [
        "#Prepare model save directory\n",
        "save_dir = os.path.join(os.getcwd(), 'midas_mnist_task2')\n",
        "model_name = 'midas_resnet_mnist.h5'\n",
        "if not os.path.isdir(save_dir):\n",
        "    os.makedirs(save_dir)\n",
        "filepath = os.path.join(save_dir,model_name)"
      ],
      "execution_count": null,
      "outputs": []
    },
    {
      "cell_type": "code",
      "metadata": {
        "id": "jUwrw7PnzcoI"
      },
      "source": [
        "# Defining some Callbacks \n",
        "\n",
        "# For reusing the best model, I am defining a checkoint so that the model with the best learned parameters can be saved\n",
        "checkpoint = ModelCheckpoint(filepath=filepath,monitor='val_acc',verbose=1,save_best_only=True)\n",
        "\n",
        "#Using a LRSchduler so that it wont lead t overfit\n",
        "lr_scheduler = LearningRateScheduler(lr_schedule)\n",
        "\n",
        "#Reducing the LR by sqrt(0.5) factor if the accuracy is not imporved after 5 epochs \n",
        "lr_reducer = ReduceLROnPlateau(factor=np.sqrt(0.5),cooldown=0,patience=5,min_lr=0.5e-6)\n",
        "\n",
        "callbacks = [checkpoint, lr_reducer, lr_scheduler]"
      ],
      "execution_count": null,
      "outputs": []
    },
    {
      "cell_type": "code",
      "metadata": {
        "id": "31mRx2LAzp9g"
      },
      "source": [
        "#As we have a comparatively small dataset, we need to Augment the images so that our model will generalize better\n",
        "\n",
        "datagen = ImageDataGenerator(\n",
        "        featurewise_center=False,  # set input mean to 0 over the dataset\n",
        "        samplewise_center=False,  # set each sample mean to 0\n",
        "        featurewise_std_normalization=False, # divide inputs by std of dataset\n",
        "        samplewise_std_normalization=False, # divide each input by its std\n",
        "        zca_whitening=False,  # apply ZCA whitening\n",
        "        rotation_range=0,  # randomly rotate images in the range (deg 0 to 180)\n",
        "        width_shift_range=0.1,  # randomly shift images horizontally\n",
        "        height_shift_range=0.1, # randomly shift images vertically\n",
        "        horizontal_flip=True,   # randomly flip images horizontally\n",
        "        vertical_flip=False)  # randomly flip images vertically\n",
        "\n",
        "datagen.fit(X_train)\n",
        "\n",
        "# How many images should each Epoch should consist.\n",
        "steps_per_epoch =  math.ceil(len(X_train) / BATCH_SIZE)"
      ],
      "execution_count": null,
      "outputs": []
    },
    {
      "cell_type": "code",
      "metadata": {
        "id": "Brp2HdyFz1IX"
      },
      "source": [
        "model = resnet_v1(input_shape=input_shape, depth=depth)\n",
        "model.compile(loss='categorical_crossentropy',\n",
        "              optimizer=Adam(),\n",
        "              metrics=['acc'])\n",
        "\n",
        "history  = model.fit(x=datagen.flow(X_train, y_train, batch_size=BATCH_SIZE),\n",
        "              verbose=1,\n",
        "              epochs=EPOCHS,\n",
        "              validation_data=(X_test, y_test),\n",
        "              steps_per_epoch=steps_per_epoch,\n",
        "              callbacks=callbacks)"
      ],
      "execution_count": null,
      "outputs": []
    },
    {
      "cell_type": "code",
      "metadata": {
        "id": "WMMK-tiDJhls",
        "colab": {
          "base_uri": "https://localhost:8080/",
          "height": 755
        },
        "outputId": "463fd516-5687-4ab4-de9f-13a9ce2968ae"
      },
      "source": [
        "def display_training_curves(training, validation, title, subplot):\n",
        "  ax = plt.subplot(subplot)\n",
        "  ax.plot(training)\n",
        "  ax.plot(validation)\n",
        "  ax.set_title('model '+ title)\n",
        "  ax.set_ylabel(title)\n",
        "  ax.set_xlabel('epoch')\n",
        "  ax.legend(['training', 'validation'])\n",
        "\n",
        "plt.subplots(figsize=(10,10))\n",
        "plt.tight_layout()\n",
        "display_training_curves(history.history['acc'], history.history['val_acc'], 'accuracy', 211)\n",
        "display_training_curves(history.history['loss'], history.history['val_loss'], 'loss', 212)"
      ],
      "execution_count": null,
      "outputs": [
        {
          "output_type": "display_data",
          "data": {
            "image/png": "[encoded data removed]",
            "text/plain": [
              "<Figure size 720x720 with 2 Axes>"
            ]
          },
          "metadata": {
            "tags": [],
            "needs_background": "light"
          }
        }
      ]
    },
    {
      "cell_type": "markdown",
      "metadata": {
        "id": "NVz6u2r69RDS"
      },
      "source": [
        "# THE NEXT REAMINING PART OF THIS TASK IS ON SECOND NOTEBOOK MIDAS_CV_PART2.2 "
      ]
    }
  ]
}